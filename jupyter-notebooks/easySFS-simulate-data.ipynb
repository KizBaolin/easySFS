{
 "cells": [
  {
   "cell_type": "markdown",
   "metadata": {},
   "source": [
    "Useful msprime docs:\n",
    "https://github.com/jeromekelleher/spg-chapter/blob/master/jupyter/msprime-chapter-examples.ipynb"
   ]
  },
  {
   "cell_type": "code",
   "execution_count": 350,
   "metadata": {
    "scrolled": true
   },
   "outputs": [],
   "source": [
    "%matplotlib inline\n",
    "import msprime\n",
    "import matplotlib.pyplot as plt\n",
    "import ipyrad.analysis as ipa\n",
    "from tempfile import TemporaryFile\n",
    "from IPython.display import SVG, display\n"
   ]
  },
  {
   "cell_type": "code",
   "execution_count": 369,
   "metadata": {},
   "outputs": [
    {
     "name": "stdout",
     "output_type": "stream",
     "text": [
      "  INFO: # PCs < # samples. Forcing # PCs = 8\n"
     ]
    },
    {
     "data": {
      "text/plain": [
       "<matplotlib.axes._subplots.AxesSubplot at 0x7f1ad0d20cd0>"
      ]
     },
     "execution_count": 369,
     "metadata": {},
     "output_type": "execute_result"
    },
    {
     "data": {
      "image/png": "[encoded data removed]",
      "text/plain": [
       "<Figure size 432x360 with 1 Axes>"
      ]
     },
     "metadata": {},
     "output_type": "display_data"
    }
   ],
   "source": [
    "local_Ne = 1e5\n",
    "g = 0\n",
    "split_time = 2e5\n",
    "pop1_samples = 8\n",
    "pop2_samples = 8\n",
    "length=150\n",
    "\n",
    "migmat = [[0, 0], [0, 0]]\n",
    "\n",
    "def simulate_one_nloci(n=1):\n",
    "    ts_list = []\n",
    "    for i in xrange(n):\n",
    "        pop1 = msprime.PopulationConfiguration(sample_size=pop1_samples,\n",
    "                                            initial_size=local_Ne,\n",
    "                                            growth_rate=g)\n",
    "\n",
    "        pop2 = msprime.PopulationConfiguration(sample_size=pop2_samples,\n",
    "                                            initial_size=local_Ne,\n",
    "                                            growth_rate=g)\n",
    "\n",
    "        split_event = msprime.MassMigration(time=split_time,\n",
    "                                            source=0,\n",
    "                                            destination=1,\n",
    "                                            proportion=1)\n",
    "\n",
    "        debug = msprime.DemographyDebugger(population_configurations=[pop1, pop2],\n",
    "                                            demographic_events=[split_event],\n",
    "                                            migration_matrix=migmat)\n",
    "\n",
    "        tree_sequence = msprime.simulate(length=length,\\\n",
    "                                            migration_matrix=migmat,\\\n",
    "                                            mutation_rate=1e-8, \\\n",
    "                                            population_configurations=[pop1, pop2],\\\n",
    "                                            demographic_events=[split_event])\n",
    "        ts_list.append(tree_sequence)\n",
    "\n",
    "    return ts_list\n",
    "\n",
    "def plot_tree_sequence(tree_sequence):\n",
    "    tree = tree_sequence.first()\n",
    "    colour_map = {0:\"red\", 1:\"blue\"}\n",
    "    node_colours = {u: colour_map[tree.population(u)] for u in tree.nodes()}\n",
    "    display(SVG(tree.draw(width=600, height=400, node_colours=node_colours)))\n",
    "\n",
    "def write_vcf(ts_list, outfile):\n",
    "    with open(outfile, 'w') as output:\n",
    "        ts_list[0].write_vcf(output, ploidy=2, contig_id='1')\n",
    "        for i, ts in enumerate(ts_list[1:]):\n",
    "            with TemporaryFile() as outtmp:\n",
    "                ## the +2 here is because enumerate starts at 0, and we\n",
    "                ## want our first locus of this list to start at 2\n",
    "                ts.write_vcf(outtmp, ploidy=2, contig_id=str(i+2))\n",
    "                outtmp.seek(0)\n",
    "                ## Get rid of the 6 lines of vcf header\n",
    "                dat = outtmp.readlines()[6:]\n",
    "                output.write(\"\".join(dat))\n",
    "\n",
    "## 100 loci is almost instant\n",
    "## 1000 loci ~5 seconds\n",
    "ts_list = simulate_one_nloci(n=1000)\n",
    "#plot_tree_sequence(ts_list[0])\n",
    "write_vcf(ts_list, \"/tmp/tmp.vcf\")\n",
    "pca = ipa.pca(\"/tmp/tmp.vcf\")\n",
    "pca.plot()"
   ]
  },
  {
   "cell_type": "code",
   "execution_count": 353,
   "metadata": {},
   "outputs": [
    {
     "name": "stdout",
     "output_type": "stream",
     "text": [
      "  INFO: # PCs < # samples. Forcing # PCs = 6\n"
     ]
    },
    {
     "data": {
      "text/plain": [
       "<matplotlib.axes._subplots.AxesSubplot at 0x7f1ae8037890>"
      ]
     },
     "execution_count": 353,
     "metadata": {},
     "output_type": "execute_result"
    },
    {
     "data": {
      "image/png": "[encoded data removed]",
      "text/plain": [
       "<Figure size 432x360 with 1 Axes>"
      ]
     },
     "metadata": {},
     "output_type": "display_data"
    }
   ],
   "source": [
    "pca = ipa.pca(\"/tmp/tmp.vcf\")\n",
    "pca.plot()"
   ]
  },
  {
   "cell_type": "code",
   "execution_count": null,
   "metadata": {},
   "outputs": [],
   "source": []
  }
 ],
 "metadata": {
  "kernelspec": {
   "display_name": "Python 2",
   "language": "python",
   "name": "python2"
  },
  "language_info": {
   "codemirror_mode": {
    "name": "ipython",
    "version": 2
   },
   "file_extension": ".py",
   "mimetype": "text/x-python",
   "name": "python",
   "nbconvert_exporter": "python",
   "pygments_lexer": "ipython2",
   "version": "2.7.15"
  }
 },
 "nbformat": 4,
 "nbformat_minor": 2
}
