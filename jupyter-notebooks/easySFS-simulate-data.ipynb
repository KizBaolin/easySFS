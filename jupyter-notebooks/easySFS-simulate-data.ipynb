{
 "cells": [
  {
   "cell_type": "markdown",
   "metadata": {},
   "source": [
    "Useful msprime docs:\n",
    "https://github.com/jeromekelleher/spg-chapter/blob/master/jupyter/msprime-chapter-examples.ipynb"
   ]
  },
  {
   "cell_type": "code",
   "execution_count": 289,
   "metadata": {
    "scrolled": true
   },
   "outputs": [],
   "source": [
    "%matplotlib inline\n",
    "from __future__ import print_function\n",
    "import msprime\n",
    "import matplotlib.pyplot as plt\n",
    "import ipyrad.analysis as ipa\n",
    "import numpy as np\n",
    "import pandas as pd\n",
    "import ipyparallel as ipp\n",
    "import datetime\n",
    "import time\n",
    "import sys\n",
    "import os\n",
    "from tempfile import TemporaryFile\n",
    "from IPython.display import SVG, display\n",
    "\n",
    "simout = \"simout\""
   ]
  },
  {
   "cell_type": "code",
   "execution_count": 290,
   "metadata": {},
   "outputs": [
    {
     "name": "stdout",
     "output_type": "stream",
     "text": [
      "  [####################] 100% done  "
     ]
    }
   ],
   "source": [
    "def progressbar(njobs, finished, msg=\"\", spacer=\"  \"):\n",
    "    \"\"\" prints a progress bar \"\"\"\n",
    "    if njobs:\n",
    "        progress = 100*(finished / float(njobs))\n",
    "    else:\n",
    "        progress = 100\n",
    "\n",
    "    hashes = '#'*int(progress/5.)\n",
    "    nohash = ' '*int(20-len(hashes))\n",
    "\n",
    "    args = [spacer, hashes+nohash, int(progress), msg]\n",
    "    print(\"\\r{}[{}] {:>3}% {} \".format(*args), end=\"\")\n",
    "    sys.stdout.flush()\n",
    "\n",
    "for i in range(100):\n",
    "    progressbar(100, i, \"watdo\")\n",
    "progressbar(100, 100, \"done\")"
   ]
  },
  {
   "cell_type": "code",
   "execution_count": 282,
   "metadata": {},
   "outputs": [
    {
     "name": "stdout",
     "output_type": "stream",
     "text": [
      "  INFO: # PCs < # samples. Forcing # PCs = 8\n"
     ]
    },
    {
     "data": {
      "text/plain": [
       "<matplotlib.axes._subplots.AxesSubplot at 0x7f82212d6cd0>"
      ]
     },
     "execution_count": 282,
     "metadata": {},
     "output_type": "execute_result"
    },
    {
     "data": {
      "image/png": "[encoded data removed]",
      "text/plain": [
       "<Figure size 432x360 with 1 Axes>"
      ]
     },
     "metadata": {},
     "output_type": "display_data"
    }
   ],
   "source": [
    "local_Ne = 1e5\n",
    "g = 0\n",
    "split_time = 2e5\n",
    "pop1_samples = 8\n",
    "pop2_samples = 8\n",
    "nloci = 100\n",
    "length=150\n",
    "\n",
    "migmat = [[0, 0], [0, 0]]\n",
    "\n",
    "def simulate_nloci(n=1, split_time=2e5, pop1_samples=8, pop2_samples=8, nloci=100, migmat=[[0, 0], [0, 0]]):\n",
    "    ts_list = []\n",
    "    for i in xrange(n):\n",
    "        pop1 = msprime.PopulationConfiguration(sample_size=pop1_samples,\n",
    "                                            initial_size=local_Ne,\n",
    "                                            growth_rate=g)\n",
    "\n",
    "        pop2 = msprime.PopulationConfiguration(sample_size=pop2_samples,\n",
    "                                            initial_size=local_Ne,\n",
    "                                            growth_rate=g)\n",
    "\n",
    "        split_event = msprime.MassMigration(time=split_time,\n",
    "                                            source=0,\n",
    "                                            destination=1,\n",
    "                                            proportion=1)\n",
    "\n",
    "        debug = msprime.DemographyDebugger(population_configurations=[pop1, pop2],\n",
    "                                            demographic_events=[split_event],\n",
    "                                            migration_matrix=migmat)\n",
    "\n",
    "        tree_sequence = msprime.simulate(length=length,\\\n",
    "                                            migration_matrix=migmat,\\\n",
    "                                            mutation_rate=1e-8, \\\n",
    "                                            population_configurations=[pop1, pop2],\\\n",
    "                                            demographic_events=[split_event])\n",
    "        ts_list.append(tree_sequence)\n",
    "\n",
    "    return ts_list\n",
    "\n",
    "def plot_tree_sequence(tree_sequence):\n",
    "    tree = tree_sequence.first()\n",
    "    colour_map = {0:\"red\", 1:\"blue\"}\n",
    "    node_colours = {u: colour_map[tree.population(u)] for u in tree.nodes()}\n",
    "    display(SVG(tree.draw(width=600, height=400, node_colours=node_colours)))\n",
    "\n",
    "def write_vcf(ts_list, outfile, unlinked=False):\n",
    "    ## get the header\n",
    "    head = []\n",
    "    with TemporaryFile() as outtmp:\n",
    "        ts_list[0].write_vcf(outtmp, ploidy=2, contig_id='1')\n",
    "        outtmp.seek(0)\n",
    "        head = outtmp.readlines()[:6]\n",
    "\n",
    "    with open(outfile, 'w') as output:\n",
    "        output.write(\"\".join(head))\n",
    "        for i, ts in enumerate(ts_list):\n",
    "            with TemporaryFile() as outtmp:\n",
    "                ## the +2 here is because enumerate starts at 0, and we\n",
    "                ## want our first locus of this list to start at 2\n",
    "                ts.write_vcf(outtmp, ploidy=2, contig_id=str(i+2))\n",
    "                outtmp.seek(0)\n",
    "                ## Get rid of the 6 lines of vcf header\n",
    "                dat = outtmp.readlines()[6:]\n",
    "                ## Add the AA field\n",
    "                new_dat = [x[:x.rfind(\".\")] + \"AA=A\" + x[x.rfind(\".\")+1:] for x in dat]\n",
    "                dat = new_dat\n",
    "                if unlinked:\n",
    "                    try:\n",
    "                        dat = np.random.choice(dat, size=1)\n",
    "                    except:\n",
    "                        ## ignore loci with no snps\n",
    "                        pass\n",
    "                output.write(\"\".join(dat))\n",
    "\n",
    "def simulate_missing(infile, outfile=None, avg_missing=0.3, std_missing=0.05):\n",
    "    if outfile == None:\n",
    "        outfile = infile\n",
    "    dat = ''\n",
    "    header = ''\n",
    "    with open(infile) as infile:\n",
    "        dat = infile.readlines()\n",
    "        header = dat[:6]\n",
    "        dat = pd.DataFrame([x.split() for x in dat[6:]], columns=header[-1].split())\n",
    "        samps = [x for x in dat.columns if \"msp\" in x]\n",
    "        missingness = np.random.normal(avg_missing, std_missing, len(samps))\n",
    "        for samp, miss in zip(samps, missingness):\n",
    "            #print(samp, miss, len(dat[samp]))\n",
    "            draws = np.random.uniform(size=len(dat[samp]))\n",
    "            dat[samp] = np.where(draws < miss, \".|.\", dat[samp])\n",
    "    with open(outfile, 'w') as outfile:\n",
    "        outfile.write(\"\".join(header))\n",
    "        dat.to_csv(outfile, sep=\"\\t\", index=False, header=False)\n",
    "\n",
    "## 100 loci is almost instant\n",
    "## 1000 loci ~5 seconds\n",
    "migmat = [[0, 1e-5], [1e-5, 0]]\n",
    "ts_list = simulate_nloci(n=nloci, migmat=migmat)\n",
    "#plot_tree_sequence(ts_list[0])\n",
    "write_vcf(ts_list, \"./{}/tmp.vcf\".format(simout), unlinked=True)\n",
    "simulate_missing(\"{}/tmp.vcf\".format(simout), avg_missing=0.5)\n",
    "pca = ipa.pca(\"./{}/tmp.vcf\".format(simout))\n",
    "pca.plot()"
   ]
  },
  {
   "cell_type": "markdown",
   "metadata": {},
   "source": [
    "## Simulate vcf files serially"
   ]
  },
  {
   "cell_type": "code",
   "execution_count": 230,
   "metadata": {},
   "outputs": [
    {
     "name": "stdout",
     "output_type": "stream",
     "text": [
      "Doing no_migration 0\n",
      "Doing no_migration 1\n",
      "Doing no_migration 2\n",
      "Doing no_migration 3\n",
      "Doing no_migration 4\n",
      "Doing symmetric_migration 0\n",
      "Doing symmetric_migration 1\n",
      "Doing symmetric_migration 2\n",
      "Doing symmetric_migration 3\n",
      "Doing symmetric_migration 4\n",
      "Doing asymmetric_migration 0\n",
      "Doing asymmetric_migration 1\n",
      "Doing asymmetric_migration 2\n",
      "Doing asymmetric_migration 3\n",
      "Doing asymmetric_migration 4\n"
     ]
    }
   ],
   "source": [
    "nsims = 5\n",
    "models = {\"no_migration\":[[0, 0], [0, 0]],\n",
    "          \"symmetric_migration\":[[0, 1e-5], [1e-5, 0]],\n",
    "          \"asymmetric_migration\":[[0, 1e-5], [1e-6, 0]]}\n",
    "\n",
    "for model, migmat in models.items():\n",
    "    outdir = \"./{}/{}\".format(simout, model)\n",
    "    if not os.path.exists(outdir):\n",
    "        os.mkdir(outdir)\n",
    "    for i in xrange(nsims):\n",
    "        print(\"Doing {} {}\".format(model, i))\n",
    "        ts_list = simulate_nloci(nloci, migmat=migmat)\n",
    "        write_vcf(ts_list, \"./{}/{}-sim{}.vcf\".format(outdir, model, i), unlinked=False)\n",
    "        simulate_missing(\"{}/{}-sim{}.vcf\".format(outdir, model, i))\n"
   ]
  },
  {
   "cell_type": "markdown",
   "metadata": {},
   "source": [
    "## Simulate vcf files in parallel\n",
    "Broken"
   ]
  },
  {
   "cell_type": "code",
   "execution_count": 192,
   "metadata": {},
   "outputs": [],
   "source": [
    "## Define a function so we can parallelize the above cell\n",
    "def sim_vcf(model, nloci, missingness, migmat, outdir, rep):\n",
    "    ts_list = simulate_nloci(nloci, migmat=migmat)\n",
    "    write_vcf(ts_list, \"./{}/{}-sim{}.vcf\".format(outdir, model, rep), unlinked=False)\n",
    "    simulate_missing(\"{}/{}-sim{}.vcf\".format(outdir, model, rep), avg_missing=missingness)\n"
   ]
  },
  {
   "cell_type": "code",
   "execution_count": 242,
   "metadata": {},
   "outputs": [
    {
     "name": "stdout",
     "output_type": "stream",
     "text": [
      "5\n"
     ]
    }
   ],
   "source": [
    "## Run this in a python2.7 env and wait for clients to attach\n",
    "#!ipcluster start -n 4 --cluster-id=ipp2 --daemonize\n",
    "ipyclient = ipp.Client(cluster_id=\"ipp2\")\n",
    "print(len(ipyclient.ids))"
   ]
  },
  {
   "cell_type": "code",
   "execution_count": 244,
   "metadata": {},
   "outputs": [
    {
     "name": "stdout",
     "output_type": "stream",
     "text": [
      "  [####################] 100%  Simulating vcf files  |  0:00:01 \n",
      "  [####################] 100%  Simulating vcf files  |  0:00:01 \n",
      "  [####################] 100%  Simulating vcf files  |  0:00:01 \n"
     ]
    }
   ],
   "source": [
    "nsims = 5\n",
    "nloci = 1000\n",
    "missingness = .3\n",
    "models = {\"no_migration\":[[0, 0], [0, 0]],\n",
    "          \"symmetric_migration\":[[0, 1e-5], [1e-5, 0]],\n",
    "          \"asymmetric_migration\":[[0, 1e-5], [1e-6, 0]]}\n",
    "\n",
    "ipyclient[:].use_dill()\n",
    "ipyclient[:].push(dict(simulate_nloci=simulate_nloci, write_vcf=write_vcf, simulate_missing=simulate_missing))\n",
    "lbview = ipyclient.load_balanced_view()\n",
    "parallel_jobs = {}\n",
    "\n",
    "start = time.time()\n",
    "printstr = \" Simulating vcf files  |  {}\"\n",
    "for model, migmat in models.items():\n",
    "    outdir = \"./{}/{}\".format(simout, model)\n",
    "    if not os.path.exists(outdir):\n",
    "        os.mkdir(outdir)\n",
    "    for rep in xrange(nsims):\n",
    "        parallel_jobs[rep] = lbview.apply(sim_vcf, *(model, nloci, missingness, migmat, outdir, rep))\n",
    "    while 1:\n",
    "        fin = [i.ready() for i in parallel_jobs.values()]\n",
    "        elapsed = datetime.timedelta(seconds=int(time.time()-start))\n",
    "        progressbar(len(fin), sum(fin),\n",
    "                    printstr.format(elapsed))\n",
    "        time.sleep(0.1)\n",
    "        if len(fin) == sum(fin):\n",
    "            print(\"\")\n",
    "            break"
   ]
  },
  {
   "cell_type": "code",
   "execution_count": 250,
   "metadata": {},
   "outputs": [
    {
     "ename": "RemoteError",
     "evalue": "NameError(global name 'simulate_nloci' is not defined)",
     "output_type": "error",
     "traceback": [
      "\u001b[0;31m\u001b[0m\u001b[0;31mNameError\u001b[0mTraceback (most recent call last)\u001b[0;32m<string>\u001b[0m in \u001b[0;36m<module>\u001b[0;34m()\u001b[0m",
      "\u001b[0;32m<ipython-input-192-56baa67d5954>\u001b[0m in \u001b[0;36msim_vcf\u001b[0;34m(model, nloci, missingness, migmat, outdir, rep)\u001b[0m",
      "\u001b[0;31mNameError\u001b[0m: global name 'simulate_nloci' is not defined"
     ]
    }
   ],
   "source": [
    "#parallel_jobs[2].result()\n",
    "ipyclient[0].push(dict(simulate_nloci=simulate_nloci, write_vcf=write_vcf, simulate_missing=simulate_missing))\n",
    "wat = ipyclient[0].apply(sim_vcf, *(model, nloci, .3, migmat, \"/tmp/\", 0))\n",
    "print(wat.result())"
   ]
  },
  {
   "cell_type": "markdown",
   "metadata": {},
   "source": [
    "## Crap below here"
   ]
  },
  {
   "cell_type": "code",
   "execution_count": 62,
   "metadata": {},
   "outputs": [
    {
     "name": "stdout",
     "output_type": "stream",
     "text": [
      "[0.3044425  0.29402902 0.2848071  0.28072836 0.32856761 0.2867087\n",
      " 0.28905754 0.28444419]\n",
      "[0.13055066 0.27542815 0.31284536 0.08255794 0.0181362  0.28084621\n",
      " 0.25152279 0.01150193]\n",
      "6\t60\t.\tA\tT\t.\tPASS\t.\tGT\t1|0\t0|0\t0|0\t1|0\t0|0\t0|0\t0|0\t0|0\n",
      "\n"
     ]
    }
   ],
   "source": [
    "avg_missing = 0.3\n",
    "std_missing = 0.05\n",
    "\n",
    "missingness = np.random.normal(avg_missing, std_missing, 8)\n",
    "print(missingness)\n",
    "draw = np.random.uniform(size=8)\n",
    "print(draw)\n",
    "ts = ts_list[1]\n",
    "with TemporaryFile() as outtmp:\n",
    "    ts.write_vcf(outtmp, ploidy=2, contig_id=str(i+2))\n",
    "    outtmp.seek(0)\n",
    "    ## Get rid of the 6 lines of vcf header\n",
    "    dat = outtmp.readlines()[6:]\n",
    "    print(dat[0])"
   ]
  },
  {
   "cell_type": "code",
   "execution_count": 288,
   "metadata": {},
   "outputs": [],
   "source": [
    "\n",
    "ts_list = simulate_nloci(1000)\n",
    "write_vcf(ts_list, \"./1000loci.vcf\", unlinked=True)\n"
   ]
  }
 ],
 "metadata": {
  "kernelspec": {
   "display_name": "Python 2",
   "language": "python",
   "name": "python2"
  },
  "language_info": {
   "codemirror_mode": {
    "name": "ipython",
    "version": 2
   },
   "file_extension": ".py",
   "mimetype": "text/x-python",
   "name": "python",
   "nbconvert_exporter": "python",
   "pygments_lexer": "ipython2",
   "version": "2.7.15"
  }
 },
 "nbformat": 4,
 "nbformat_minor": 2
}
