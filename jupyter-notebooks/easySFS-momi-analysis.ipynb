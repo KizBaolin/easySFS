{
 "cells": [
  {
   "cell_type": "markdown",
   "metadata": {},
   "source": [
    "# Momi2 analysis\n",
    "## Notebook must be run in python3"
   ]
  },
  {
   "cell_type": "code",
   "execution_count": 2,
   "metadata": {},
   "outputs": [],
   "source": [
    "import momi"
   ]
  },
  {
   "cell_type": "code",
   "execution_count": 23,
   "metadata": {},
   "outputs": [
    {
     "name": "stdout",
     "output_type": "stream",
     "text": [
      "['msp_0', 'msp_1', 'msp_2', 'msp_3', 'msp_4', 'msp_5', 'msp_6', 'msp_7']\n",
      "{'msp_0': 'pop1', 'msp_1': 'pop1', 'msp_2': 'pop1', 'msp_3': 'pop1', 'msp_4': 'pop2', 'msp_5': 'pop2', 'msp_6': 'pop2', 'msp_7': 'pop2'}\n",
      "msp_0\tpop1\r\n",
      "msp_1\tpop1\r\n",
      "msp_2\tpop1\r\n",
      "msp_3\tpop1\r\n",
      "msp_4\tpop2\r\n",
      "msp_5\tpop2\r\n",
      "msp_6\tpop2\r\n",
      "msp_7\tpop2\r\n"
     ]
    }
   ],
   "source": [
    "popfile = \"simpops.txt\"\n",
    "\n",
    "dat = !head tmp.vcf\n",
    "## Relying on the fact that the vcf files 5th line contains the samples\n",
    "## which are indexed as 9 and on\n",
    "samps = dat[5].split()[9:]\n",
    "print(samps)\n",
    "samps_per_pop = int(len(samps)/2)\n",
    "popdict = {x:\"pop1\" for x in samps[:samps_per_pop]}\n",
    "popdict.update({x:\"pop2\" for x in samps[samps_per_pop:]})\n",
    "print(popdict)\n",
    "with open(popfile, 'w') as outfile:\n",
    "    for k,v in popdict.items():\n",
    "        outfile.write(\"{}\\t{}\\n\".format(k,v))\n",
    "!cat simpops.txt"
   ]
  },
  {
   "cell_type": "code",
   "execution_count": 69,
   "metadata": {},
   "outputs": [],
   "source": [
    "!bgzip -c tmp.vcf > tmp.vcf.gz\n",
    "!tabix tmp.vcf.gz"
   ]
  },
  {
   "cell_type": "code",
   "execution_count": 70,
   "metadata": {},
   "outputs": [
    {
     "name": "stdout",
     "output_type": "stream",
     "text": [
      "1\t13\t14\r\n",
      "1\t131\t132\r\n",
      "2\t69\t70\r\n",
      "2\t111\t112\r\n",
      "3\t47\t48\r\n",
      "4\t46\t47\r\n",
      "4\t66\t67\r\n",
      "4\t99\t100\r\n",
      "4\t109\t110\r\n",
      "5\t106\t107\r\n"
     ]
    }
   ],
   "source": [
    "def vcf2bed(vcfinput, bedoutput):\n",
    "    lines = open(vcfinput).readlines()\n",
    "    snps = [l.split()[:2] for l in lines if not l.startswith(\"#\")]\n",
    "    with open(bedoutput, 'w') as outfile:\n",
    "        for snp in snps:\n",
    "            outfile.write(\"{}\\t{}\\t{}\\n\".format(snp[0], snp[1], int(snp[1])+1))\n",
    "vcf2bed(\"tmp.vcf\", \"tmp.bed\")\n",
    "!head tmp.bed"
   ]
  },
  {
   "cell_type": "code",
   "execution_count": 71,
   "metadata": {},
   "outputs": [
    {
     "name": "stdout",
     "output_type": "stream",
     "text": [
      "{\n",
      "\t\"populations\": [\"pop1\", \"pop2\"],\n",
      "\t\"use_folded_sfs\": true,\n",
      "\t\"length\": 3130,\n",
      "\t\"n_read_snps\": 99,\n",
      "\t\"n_excluded_snps\": 0,\n",
      "\t\"configs\": [\n",
      "\t\t[[8, 0], [7, 1]],\n",
      "\t\t[[8, 0], [6, 2]],\n",
      "\t\t[[8, 0], [5, 3]],\n"
     ]
    },
    {
     "name": "stderr",
     "output_type": "stream",
     "text": [
      "/home/isaac/miniconda3/lib/python3.6/site-packages/h5py/__init__.py:36: FutureWarning: Conversion of the second argument of issubdtype from `float` to `np.floating` is deprecated. In future, it will be treated as `np.float64 == np.dtype(float).type`.\n",
      "  from ._conv import register_converters as _register_converters\n"
     ]
    }
   ],
   "source": [
    "%%bash\n",
    "python -m momi.read_vcf --no_aa --verbose tmp.vcf.gz simpops.txt tmp_allele_counts.gz --bed tmp.bed\n",
    "gunzip -c tmp_allele_counts.gz | head"
   ]
  },
  {
   "cell_type": "code",
   "execution_count": 88,
   "metadata": {},
   "outputs": [
    {
     "name": "stdout",
     "output_type": "stream",
     "text": [
      "/home/isaac/miniconda3/lib/python3.6/site-packages/h5py/__init__.py:36: FutureWarning: Conversion of the second argument of issubdtype from `float` to `np.floating` is deprecated. In future, it will be treated as `np.float64 == np.dtype(float).type`.\n",
      "  from ._conv import register_converters as _register_converters\n",
      "Avg pairwise heterozygosity [[1.57142857 2.28571429]\n",
      " [1.25       1.17857143]\n",
      " [1.67857143 1.5       ]\n",
      " [2.07142857 0.75      ]\n",
      " [3.32142857 1.5       ]]\n",
      "populations ('pop1', 'pop2')\n",
      "percent missing data per population [0. 0.]\n"
     ]
    }
   ],
   "source": [
    "!python -m momi.extract_sfs tmp_sfs.gz 10 tmp_allele_counts.gz\n",
    "sfs = momi.Sfs.load(\"tmp_sfs.gz\")\n",
    "print(\"Avg pairwise heterozygosity\", sfs.avg_pairwise_hets[:5])\n",
    "print(\"populations\", sfs.populations)\n",
    "print(\"percent missing data per population\", sfs.p_missing)"
   ]
  },
  {
   "cell_type": "code",
   "execution_count": 111,
   "metadata": {},
   "outputs": [
    {
     "data": {
      "text/plain": [
       "            fun: 3.4423825612194747\n",
       "            jac: array([-2.46314709e-12])\n",
       "  kl_divergence: 3.4423825612194747\n",
       " log_likelihood: -586.0527145224539\n",
       "        message: 'Local minimum reached (|pg| ~= 0)'\n",
       "           nfev: 10\n",
       "            nit: 4\n",
       "     parameters: ParamsDict({'tdiv': 225895.46294887832})\n",
       "         status: 0\n",
       "        success: True\n",
       "              x: array([225895.46294888])"
      ]
     },
     "execution_count": 111,
     "metadata": {},
     "output_type": "execute_result"
    }
   ],
   "source": [
    "no_migration_model = momi.DemographicModel(N_e=1e5,\n",
    "                                           muts_per_gen=1e-8,\n",
    "                                           gen_time=1)\n",
    "\n",
    "no_migration_model.set_data(sfs, length=1e5)\n",
    "\n",
    "no_migration_model.add_time_param(\"tdiv\")\n",
    "\n",
    "no_migration_model.add_leaf(\"pop1\")\n",
    "no_migration_model.add_leaf(\"pop2\")\n",
    "no_migration_model.move_lineages(\"pop1\", \"pop2\", t=\"tdiv\")\n",
    "\n",
    "no_migration_model.optimize()"
   ]
  },
  {
   "cell_type": "code",
   "execution_count": 57,
   "metadata": {},
   "outputs": [
    {
     "name": "stdout",
     "output_type": "stream",
     "text": [
      "/home/isaac/miniconda3/lib/python3.6/site-packages/h5py/__init__.py:36: FutureWarning: Conversion of the second argument of issubdtype from `float` to `np.floating` is deprecated. In future, it will be treated as `np.float64 == np.dtype(float).type`.\n",
      "  from ._conv import register_converters as _register_converters\n",
      "usage: extract_sfs.py [-h] [--verbose] out n_blocks files [files ...]\n",
      "extract_sfs.py: error: the following arguments are required: out, n_blocks, files\n"
     ]
    }
   ],
   "source": [
    "!python -m momi.extract_sfs"
   ]
  }
 ],
 "metadata": {
  "kernelspec": {
   "display_name": "Python 3",
   "language": "python",
   "name": "python3"
  },
  "language_info": {
   "codemirror_mode": {
    "name": "ipython",
    "version": 3
   },
   "file_extension": ".py",
   "mimetype": "text/x-python",
   "name": "python",
   "nbconvert_exporter": "python",
   "pygments_lexer": "ipython3",
   "version": "3.6.5"
  }
 },
 "nbformat": 4,
 "nbformat_minor": 2
}
